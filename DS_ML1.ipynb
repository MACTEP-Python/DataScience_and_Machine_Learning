{
 "cells": [
  {
   "cell_type": "code",
   "execution_count": 1,
   "metadata": {
    "collapsed": true
   },
   "outputs": [],
   "source": [
    "import pandas as pd\n",
    "import numpy as np\n",
    "import matplotlib.pyplot as plt\n",
    "% matplotlib inline"
   ]
  },
  {
   "cell_type": "code",
   "execution_count": 19,
   "outputs": [
    {
     "data": {
      "text/plain": "   gender race/ethnicity parental level of education         lunch  \\\n0  female        group B           bachelor's degree      standard   \n1  female        group C                some college      standard   \n2  female        group B             master's degree      standard   \n3    male        group A          associate's degree  free/reduced   \n4    male        group C                some college      standard   \n\n  test preparation course  math score  reading score  writing score  \n0                    none          72             72             74  \n1               completed          69             90             88  \n2                    none          90             95             93  \n3                    none          47             57             44  \n4                    none          76             78             75  ",
      "text/html": "<div>\n<style scoped>\n    .dataframe tbody tr th:only-of-type {\n        vertical-align: middle;\n    }\n\n    .dataframe tbody tr th {\n        vertical-align: top;\n    }\n\n    .dataframe thead th {\n        text-align: right;\n    }\n</style>\n<table border=\"1\" class=\"dataframe\">\n  <thead>\n    <tr style=\"text-align: right;\">\n      <th></th>\n      <th>gender</th>\n      <th>race/ethnicity</th>\n      <th>parental level of education</th>\n      <th>lunch</th>\n      <th>test preparation course</th>\n      <th>math score</th>\n      <th>reading score</th>\n      <th>writing score</th>\n    </tr>\n  </thead>\n  <tbody>\n    <tr>\n      <th>0</th>\n      <td>female</td>\n      <td>group B</td>\n      <td>bachelor's degree</td>\n      <td>standard</td>\n      <td>none</td>\n      <td>72</td>\n      <td>72</td>\n      <td>74</td>\n    </tr>\n    <tr>\n      <th>1</th>\n      <td>female</td>\n      <td>group C</td>\n      <td>some college</td>\n      <td>standard</td>\n      <td>completed</td>\n      <td>69</td>\n      <td>90</td>\n      <td>88</td>\n    </tr>\n    <tr>\n      <th>2</th>\n      <td>female</td>\n      <td>group B</td>\n      <td>master's degree</td>\n      <td>standard</td>\n      <td>none</td>\n      <td>90</td>\n      <td>95</td>\n      <td>93</td>\n    </tr>\n    <tr>\n      <th>3</th>\n      <td>male</td>\n      <td>group A</td>\n      <td>associate's degree</td>\n      <td>free/reduced</td>\n      <td>none</td>\n      <td>47</td>\n      <td>57</td>\n      <td>44</td>\n    </tr>\n    <tr>\n      <th>4</th>\n      <td>male</td>\n      <td>group C</td>\n      <td>some college</td>\n      <td>standard</td>\n      <td>none</td>\n      <td>76</td>\n      <td>78</td>\n      <td>75</td>\n    </tr>\n  </tbody>\n</table>\n</div>"
     },
     "execution_count": 19,
     "metadata": {},
     "output_type": "execute_result"
    }
   ],
   "source": [
    "df = pd.read_csv('Data/StudentsPerformance.csv')\n",
    "df.head()"
   ],
   "metadata": {
    "collapsed": false,
    "pycharm": {
     "name": "#%%\n"
    }
   }
  },
  {
   "cell_type": "code",
   "execution_count": 40,
   "outputs": [
    {
     "data": {
      "text/plain": "<AxesSubplot:xlabel='gender'>"
     },
     "execution_count": 40,
     "metadata": {},
     "output_type": "execute_result"
    },
    {
     "data": {
      "text/plain": "<Figure size 432x288 with 1 Axes>",
      "image/png": "[encoded data removed]"
     },
     "metadata": {
      "needs_background": "light"
     },
     "output_type": "display_data"
    }
   ],
   "source": [
    "df.groupby('gender').aggregate({'writing score': 'max', 'reading score': 'mean'}).plot(kind='bar')"
   ],
   "metadata": {
    "collapsed": false,
    "pycharm": {
     "name": "#%%\n"
    }
   }
  },
  {
   "cell_type": "code",
   "execution_count": 44,
   "outputs": [
    {
     "data": {
      "text/plain": "gender                         object\nrace/ethnicity                 object\nparental level of education    object\nlunch                          object\ntest preparation course        object\nmath score                      int64\nreading score                   int64\nwriting score                   int64\ndtype: object"
     },
     "execution_count": 44,
     "metadata": {},
     "output_type": "execute_result"
    }
   ],
   "source": [
    "df.dtypes"
   ],
   "metadata": {
    "collapsed": false,
    "pycharm": {
     "name": "#%%\n"
    }
   }
  },
  {
   "cell_type": "code",
   "execution_count": 45,
   "outputs": [
    {
     "ename": "AttributeError",
     "evalue": "'DataFrame' object has no attribute 'get_dtype_counts'",
     "output_type": "error",
     "traceback": [
      "\u001B[1;31m---------------------------------------------------------------------------\u001B[0m",
      "\u001B[1;31mAttributeError\u001B[0m                            Traceback (most recent call last)",
      "\u001B[1;32mC:\\Temp/ipykernel_1792/2266310930.py\u001B[0m in \u001B[0;36m<module>\u001B[1;34m\u001B[0m\n\u001B[1;32m----> 1\u001B[1;33m \u001B[0mdf\u001B[0m\u001B[1;33m.\u001B[0m\u001B[0mget_dtype_counts\u001B[0m\u001B[1;33m(\u001B[0m\u001B[1;33m)\u001B[0m\u001B[1;33m\u001B[0m\u001B[1;33m\u001B[0m\u001B[0m\n\u001B[0m",
      "\u001B[1;32m~\\AppData\\Roaming\\Python\\Python310\\site-packages\\pandas\\core\\generic.py\u001B[0m in \u001B[0;36m__getattr__\u001B[1;34m(self, name)\u001B[0m\n\u001B[0;32m   5485\u001B[0m         ):\n\u001B[0;32m   5486\u001B[0m             \u001B[1;32mreturn\u001B[0m \u001B[0mself\u001B[0m\u001B[1;33m[\u001B[0m\u001B[0mname\u001B[0m\u001B[1;33m]\u001B[0m\u001B[1;33m\u001B[0m\u001B[1;33m\u001B[0m\u001B[0m\n\u001B[1;32m-> 5487\u001B[1;33m         \u001B[1;32mreturn\u001B[0m \u001B[0mobject\u001B[0m\u001B[1;33m.\u001B[0m\u001B[0m__getattribute__\u001B[0m\u001B[1;33m(\u001B[0m\u001B[0mself\u001B[0m\u001B[1;33m,\u001B[0m \u001B[0mname\u001B[0m\u001B[1;33m)\u001B[0m\u001B[1;33m\u001B[0m\u001B[1;33m\u001B[0m\u001B[0m\n\u001B[0m\u001B[0;32m   5488\u001B[0m \u001B[1;33m\u001B[0m\u001B[0m\n\u001B[0;32m   5489\u001B[0m     \u001B[1;32mdef\u001B[0m \u001B[0m__setattr__\u001B[0m\u001B[1;33m(\u001B[0m\u001B[0mself\u001B[0m\u001B[1;33m,\u001B[0m \u001B[0mname\u001B[0m\u001B[1;33m:\u001B[0m \u001B[0mstr\u001B[0m\u001B[1;33m,\u001B[0m \u001B[0mvalue\u001B[0m\u001B[1;33m)\u001B[0m \u001B[1;33m->\u001B[0m \u001B[1;32mNone\u001B[0m\u001B[1;33m:\u001B[0m\u001B[1;33m\u001B[0m\u001B[1;33m\u001B[0m\u001B[0m\n",
      "\u001B[1;31mAttributeError\u001B[0m: 'DataFrame' object has no attribute 'get_dtype_counts'"
     ]
    }
   ],
   "source": [
    "df.get_dtype_counts()"
   ],
   "metadata": {
    "collapsed": false,
    "pycharm": {
     "name": "#%%\n"
    }
   }
  },
  {
   "cell_type": "code",
   "execution_count": 3,
   "outputs": [
    {
     "data": {
      "text/plain": "   PassengerId  Survived  Pclass  \\\n0            1         0       3   \n1            2         1       1   \n2            3         1       3   \n3            4         1       1   \n4            5         0       3   \n\n                                                Name     Sex   Age  SibSp  \\\n0                            Braund, Mr. Owen Harris    male  22.0      1   \n1  Cumings, Mrs. John Bradley (Florence Briggs Th...  female  38.0      1   \n2                             Heikkinen, Miss. Laina  female  26.0      0   \n3       Futrelle, Mrs. Jacques Heath (Lily May Peel)  female  35.0      1   \n4                           Allen, Mr. William Henry    male  35.0      0   \n\n   Parch            Ticket     Fare Cabin Embarked  \n0      0         A/5 21171   7.2500   NaN        S  \n1      0          PC 17599  71.2833   C85        C  \n2      0  STON/O2. 3101282   7.9250   NaN        S  \n3      0            113803  53.1000  C123        S  \n4      0            373450   8.0500   NaN        S  ",
      "text/html": "<div>\n<style scoped>\n    .dataframe tbody tr th:only-of-type {\n        vertical-align: middle;\n    }\n\n    .dataframe tbody tr th {\n        vertical-align: top;\n    }\n\n    .dataframe thead th {\n        text-align: right;\n    }\n</style>\n<table border=\"1\" class=\"dataframe\">\n  <thead>\n    <tr style=\"text-align: right;\">\n      <th></th>\n      <th>PassengerId</th>\n      <th>Survived</th>\n      <th>Pclass</th>\n      <th>Name</th>\n      <th>Sex</th>\n      <th>Age</th>\n      <th>SibSp</th>\n      <th>Parch</th>\n      <th>Ticket</th>\n      <th>Fare</th>\n      <th>Cabin</th>\n      <th>Embarked</th>\n    </tr>\n  </thead>\n  <tbody>\n    <tr>\n      <th>0</th>\n      <td>1</td>\n      <td>0</td>\n      <td>3</td>\n      <td>Braund, Mr. Owen Harris</td>\n      <td>male</td>\n      <td>22.0</td>\n      <td>1</td>\n      <td>0</td>\n      <td>A/5 21171</td>\n      <td>7.2500</td>\n      <td>NaN</td>\n      <td>S</td>\n    </tr>\n    <tr>\n      <th>1</th>\n      <td>2</td>\n      <td>1</td>\n      <td>1</td>\n      <td>Cumings, Mrs. John Bradley (Florence Briggs Th...</td>\n      <td>female</td>\n      <td>38.0</td>\n      <td>1</td>\n      <td>0</td>\n      <td>PC 17599</td>\n      <td>71.2833</td>\n      <td>C85</td>\n      <td>C</td>\n    </tr>\n    <tr>\n      <th>2</th>\n      <td>3</td>\n      <td>1</td>\n      <td>3</td>\n      <td>Heikkinen, Miss. Laina</td>\n      <td>female</td>\n      <td>26.0</td>\n      <td>0</td>\n      <td>0</td>\n      <td>STON/O2. 3101282</td>\n      <td>7.9250</td>\n      <td>NaN</td>\n      <td>S</td>\n    </tr>\n    <tr>\n      <th>3</th>\n      <td>4</td>\n      <td>1</td>\n      <td>1</td>\n      <td>Futrelle, Mrs. Jacques Heath (Lily May Peel)</td>\n      <td>female</td>\n      <td>35.0</td>\n      <td>1</td>\n      <td>0</td>\n      <td>113803</td>\n      <td>53.1000</td>\n      <td>C123</td>\n      <td>S</td>\n    </tr>\n    <tr>\n      <th>4</th>\n      <td>5</td>\n      <td>0</td>\n      <td>3</td>\n      <td>Allen, Mr. William Henry</td>\n      <td>male</td>\n      <td>35.0</td>\n      <td>0</td>\n      <td>0</td>\n      <td>373450</td>\n      <td>8.0500</td>\n      <td>NaN</td>\n      <td>S</td>\n    </tr>\n  </tbody>\n</table>\n</div>"
     },
     "execution_count": 3,
     "metadata": {},
     "output_type": "execute_result"
    }
   ],
   "source": [
    "df_titanic = pd.read_csv('Data/titanic.csv')\n",
    "df_titanic.head()"
   ],
   "metadata": {
    "collapsed": false,
    "pycharm": {
     "name": "#%%\n"
    }
   }
  },
  {
   "cell_type": "code",
   "execution_count": 67,
   "outputs": [
    {
     "data": {
      "text/plain": "int64      5\nobject     5\nfloat64    2\ndtype: int64"
     },
     "execution_count": 67,
     "metadata": {},
     "output_type": "execute_result"
    }
   ],
   "source": [
    "df_titanic.dtypes.value_counts()"
   ],
   "metadata": {
    "collapsed": false,
    "pycharm": {
     "name": "#%%\n"
    }
   }
  },
  {
   "cell_type": "code",
   "execution_count": 29,
   "outputs": [
    {
     "data": {
      "text/plain": "     gender         lunch  writing score\n9    female  free/reduced             50\n17   female  free/reduced             28\n55   female  free/reduced             43\n59   female  free/reduced             10\n72   female  free/reduced             48\n80   female      standard             50\n145  female  free/reduced             33\n182  female      standard             47\n217  female  free/reduced             39\n284  female      standard             46\n324  female  free/reduced             43\n338  female  free/reduced             27\n363  female  free/reduced             32\n383  female  free/reduced             45\n384  female  free/reduced             43\n433  female  free/reduced             50\n466  female  free/reduced             38\n527  female  free/reduced             43\n528  female  free/reduced             47\n552  female      standard             50\n555  female  free/reduced             33\n601  female      standard             30\n616  female      standard             38\n683  female  free/reduced             44\n777  female  free/reduced             43\n785  female      standard             44\n787  female      standard             32\n807  female  free/reduced             40\n840  female  free/reduced             46\n842  female  free/reduced             36\n895  female  free/reduced             38\n902  female  free/reduced             41\n921  female  free/reduced             46\n980  female  free/reduced             23\n988  female  free/reduced             45",
      "text/html": "<div>\n<style scoped>\n    .dataframe tbody tr th:only-of-type {\n        vertical-align: middle;\n    }\n\n    .dataframe tbody tr th {\n        vertical-align: top;\n    }\n\n    .dataframe thead th {\n        text-align: right;\n    }\n</style>\n<table border=\"1\" class=\"dataframe\">\n  <thead>\n    <tr style=\"text-align: right;\">\n      <th></th>\n      <th>gender</th>\n      <th>lunch</th>\n      <th>writing score</th>\n    </tr>\n  </thead>\n  <tbody>\n    <tr>\n      <th>9</th>\n      <td>female</td>\n      <td>free/reduced</td>\n      <td>50</td>\n    </tr>\n    <tr>\n      <th>17</th>\n      <td>female</td>\n      <td>free/reduced</td>\n      <td>28</td>\n    </tr>\n    <tr>\n      <th>55</th>\n      <td>female</td>\n      <td>free/reduced</td>\n      <td>43</td>\n    </tr>\n    <tr>\n      <th>59</th>\n      <td>female</td>\n      <td>free/reduced</td>\n      <td>10</td>\n    </tr>\n    <tr>\n      <th>72</th>\n      <td>female</td>\n      <td>free/reduced</td>\n      <td>48</td>\n    </tr>\n    <tr>\n      <th>80</th>\n      <td>female</td>\n      <td>standard</td>\n      <td>50</td>\n    </tr>\n    <tr>\n      <th>145</th>\n      <td>female</td>\n      <td>free/reduced</td>\n      <td>33</td>\n    </tr>\n    <tr>\n      <th>182</th>\n      <td>female</td>\n      <td>standard</td>\n      <td>47</td>\n    </tr>\n    <tr>\n      <th>217</th>\n      <td>female</td>\n      <td>free/reduced</td>\n      <td>39</td>\n    </tr>\n    <tr>\n      <th>284</th>\n      <td>female</td>\n      <td>standard</td>\n      <td>46</td>\n    </tr>\n    <tr>\n      <th>324</th>\n      <td>female</td>\n      <td>free/reduced</td>\n      <td>43</td>\n    </tr>\n    <tr>\n      <th>338</th>\n      <td>female</td>\n      <td>free/reduced</td>\n      <td>27</td>\n    </tr>\n    <tr>\n      <th>363</th>\n      <td>female</td>\n      <td>free/reduced</td>\n      <td>32</td>\n    </tr>\n    <tr>\n      <th>383</th>\n      <td>female</td>\n      <td>free/reduced</td>\n      <td>45</td>\n    </tr>\n    <tr>\n      <th>384</th>\n      <td>female</td>\n      <td>free/reduced</td>\n      <td>43</td>\n    </tr>\n    <tr>\n      <th>433</th>\n      <td>female</td>\n      <td>free/reduced</td>\n      <td>50</td>\n    </tr>\n    <tr>\n      <th>466</th>\n      <td>female</td>\n      <td>free/reduced</td>\n      <td>38</td>\n    </tr>\n    <tr>\n      <th>527</th>\n      <td>female</td>\n      <td>free/reduced</td>\n      <td>43</td>\n    </tr>\n    <tr>\n      <th>528</th>\n      <td>female</td>\n      <td>free/reduced</td>\n      <td>47</td>\n    </tr>\n    <tr>\n      <th>552</th>\n      <td>female</td>\n      <td>standard</td>\n      <td>50</td>\n    </tr>\n    <tr>\n      <th>555</th>\n      <td>female</td>\n      <td>free/reduced</td>\n      <td>33</td>\n    </tr>\n    <tr>\n      <th>601</th>\n      <td>female</td>\n      <td>standard</td>\n      <td>30</td>\n    </tr>\n    <tr>\n      <th>616</th>\n      <td>female</td>\n      <td>standard</td>\n      <td>38</td>\n    </tr>\n    <tr>\n      <th>683</th>\n      <td>female</td>\n      <td>free/reduced</td>\n      <td>44</td>\n    </tr>\n    <tr>\n      <th>777</th>\n      <td>female</td>\n      <td>free/reduced</td>\n      <td>43</td>\n    </tr>\n    <tr>\n      <th>785</th>\n      <td>female</td>\n      <td>standard</td>\n      <td>44</td>\n    </tr>\n    <tr>\n      <th>787</th>\n      <td>female</td>\n      <td>standard</td>\n      <td>32</td>\n    </tr>\n    <tr>\n      <th>807</th>\n      <td>female</td>\n      <td>free/reduced</td>\n      <td>40</td>\n    </tr>\n    <tr>\n      <th>840</th>\n      <td>female</td>\n      <td>free/reduced</td>\n      <td>46</td>\n    </tr>\n    <tr>\n      <th>842</th>\n      <td>female</td>\n      <td>free/reduced</td>\n      <td>36</td>\n    </tr>\n    <tr>\n      <th>895</th>\n      <td>female</td>\n      <td>free/reduced</td>\n      <td>38</td>\n    </tr>\n    <tr>\n      <th>902</th>\n      <td>female</td>\n      <td>free/reduced</td>\n      <td>41</td>\n    </tr>\n    <tr>\n      <th>921</th>\n      <td>female</td>\n      <td>free/reduced</td>\n      <td>46</td>\n    </tr>\n    <tr>\n      <th>980</th>\n      <td>female</td>\n      <td>free/reduced</td>\n      <td>23</td>\n    </tr>\n    <tr>\n      <th>988</th>\n      <td>female</td>\n      <td>free/reduced</td>\n      <td>45</td>\n    </tr>\n  </tbody>\n</table>\n</div>"
     },
     "execution_count": 29,
     "metadata": {},
     "output_type": "execute_result"
    }
   ],
   "source": [
    "df.loc[(df.gender == 'female') & (df['writing score'] <= 50), ['gender', 'lunch', 'writing score']]"
   ],
   "metadata": {
    "collapsed": false,
    "pycharm": {
     "name": "#%%\n"
    }
   }
  },
  {
   "cell_type": "code",
   "execution_count": 31,
   "outputs": [
    {
     "data": {
      "text/plain": "gender                           NaN\nlunch                          0.355\nmath score                       NaN\nparental level of education      NaN\nrace/ethnicity                   NaN\nreading score                    NaN\ntest preparation course          NaN\nwriting score                    NaN\ndtype: float64"
     },
     "execution_count": 31,
     "metadata": {},
     "output_type": "execute_result"
    }
   ],
   "source": [
    "df.loc[df.lunch == 'free/reduced', ['lunch']].count() / df.count()"
   ],
   "metadata": {
    "collapsed": false,
    "pycharm": {
     "name": "#%%\n"
    }
   }
  },
  {
   "cell_type": "code",
   "execution_count": 38,
   "outputs": [
    {
     "data": {
      "text/plain": "             math score                                                       \\\n                  count       mean        std   min   25%   50%   75%    max   \nlunch                                                                          \nfree/reduced      355.0  58.921127  15.159956   0.0  49.0  60.0  69.0  100.0   \nstandard          645.0  70.034109  13.653501  19.0  61.0  69.0  80.0  100.0   \n\n             reading score             ...              writing score  \\\n                     count       mean  ...   75%    max         count   \nlunch                                  ...                              \nfree/reduced         355.0  64.653521  ...  75.0  100.0         355.0   \nstandard             645.0  71.654264  ...  82.0  100.0         645.0   \n\n                                                                   \n                   mean        std   min   25%   50%   75%    max  \nlunch                                                              \nfree/reduced  63.022535  15.433823  10.0  53.0  64.0  74.0  100.0  \nstandard      70.823256  14.339487  22.0  62.0  72.0  81.0  100.0  \n\n[2 rows x 24 columns]",
      "text/html": "<div>\n<style scoped>\n    .dataframe tbody tr th:only-of-type {\n        vertical-align: middle;\n    }\n\n    .dataframe tbody tr th {\n        vertical-align: top;\n    }\n\n    .dataframe thead tr th {\n        text-align: left;\n    }\n\n    .dataframe thead tr:last-of-type th {\n        text-align: right;\n    }\n</style>\n<table border=\"1\" class=\"dataframe\">\n  <thead>\n    <tr>\n      <th></th>\n      <th colspan=\"8\" halign=\"left\">math score</th>\n      <th colspan=\"5\" halign=\"left\">reading score</th>\n      <th colspan=\"8\" halign=\"left\">writing score</th>\n    </tr>\n    <tr>\n      <th></th>\n      <th>count</th>\n      <th>mean</th>\n      <th>std</th>\n      <th>min</th>\n      <th>25%</th>\n      <th>50%</th>\n      <th>75%</th>\n      <th>max</th>\n      <th>count</th>\n      <th>mean</th>\n      <th>...</th>\n      <th>75%</th>\n      <th>max</th>\n      <th>count</th>\n      <th>mean</th>\n      <th>std</th>\n      <th>min</th>\n      <th>25%</th>\n      <th>50%</th>\n      <th>75%</th>\n      <th>max</th>\n    </tr>\n    <tr>\n      <th>lunch</th>\n      <th></th>\n      <th></th>\n      <th></th>\n      <th></th>\n      <th></th>\n      <th></th>\n      <th></th>\n      <th></th>\n      <th></th>\n      <th></th>\n      <th></th>\n      <th></th>\n      <th></th>\n      <th></th>\n      <th></th>\n      <th></th>\n      <th></th>\n      <th></th>\n      <th></th>\n      <th></th>\n      <th></th>\n    </tr>\n  </thead>\n  <tbody>\n    <tr>\n      <th>free/reduced</th>\n      <td>355.0</td>\n      <td>58.921127</td>\n      <td>15.159956</td>\n      <td>0.0</td>\n      <td>49.0</td>\n      <td>60.0</td>\n      <td>69.0</td>\n      <td>100.0</td>\n      <td>355.0</td>\n      <td>64.653521</td>\n      <td>...</td>\n      <td>75.0</td>\n      <td>100.0</td>\n      <td>355.0</td>\n      <td>63.022535</td>\n      <td>15.433823</td>\n      <td>10.0</td>\n      <td>53.0</td>\n      <td>64.0</td>\n      <td>74.0</td>\n      <td>100.0</td>\n    </tr>\n    <tr>\n      <th>standard</th>\n      <td>645.0</td>\n      <td>70.034109</td>\n      <td>13.653501</td>\n      <td>19.0</td>\n      <td>61.0</td>\n      <td>69.0</td>\n      <td>80.0</td>\n      <td>100.0</td>\n      <td>645.0</td>\n      <td>71.654264</td>\n      <td>...</td>\n      <td>82.0</td>\n      <td>100.0</td>\n      <td>645.0</td>\n      <td>70.823256</td>\n      <td>14.339487</td>\n      <td>22.0</td>\n      <td>62.0</td>\n      <td>72.0</td>\n      <td>81.0</td>\n      <td>100.0</td>\n    </tr>\n  </tbody>\n</table>\n<p>2 rows × 24 columns</p>\n</div>"
     },
     "execution_count": 38,
     "metadata": {},
     "output_type": "execute_result"
    }
   ],
   "source": [
    "df.groupby('lunch').describe()"
   ],
   "metadata": {
    "collapsed": false,
    "pycharm": {
     "name": "#%%\n"
    }
   }
  },
  {
   "cell_type": "code",
   "execution_count": 63,
   "outputs": [
    {
     "data": {
      "text/plain": "     gender race/ethnicity parental level of education         lunch  \\\n0    female        group B           bachelor's degree      standard   \n2    female        group B             master's degree      standard   \n5    female        group B          associate's degree      standard   \n6    female        group B                some college      standard   \n94   female        group B                some college      standard   \n116  female        group B           bachelor's degree  free/reduced   \n125  female        group B                 high school      standard   \n199  female        group B           bachelor's degree  free/reduced   \n208  female        group B                some college  free/reduced   \n310  female        group B          associate's degree      standard   \n380  female        group B          associate's degree      standard   \n407  female        group B          associate's degree      standard   \n443  female        group B          associate's degree      standard   \n474  female        group B          associate's degree      standard   \n501  female        group B          associate's degree      standard   \n505  female        group B            some high school      standard   \n514  female        group B             master's degree  free/reduced   \n577  female        group B                 high school      standard   \n642  female        group B            some high school  free/reduced   \n654  female        group B            some high school      standard   \n667  female        group B           bachelor's degree  free/reduced   \n715  female        group B          associate's degree  free/reduced   \n722  female        group B            some high school  free/reduced   \n765  female        group B                 high school      standard   \n781  female        group B             master's degree      standard   \n782  female        group B                 high school  free/reduced   \n803  female        group B                some college      standard   \n823  female        group B                 high school  free/reduced   \n833  female        group B                 high school      standard   \n855  female        group B           bachelor's degree      standard   \n969  female        group B           bachelor's degree      standard   \n\n    test preparation course  math score  reading score  writing score  \n0                      none          72             72             74  \n2                      none          90             95             93  \n5                      none          71             83             78  \n6                 completed          88             95             92  \n94                     none          79             86             92  \n116                    none          75             85             82  \n125                    none          87             95             86  \n199                    none          78             79             76  \n208                    none          74             81             76  \n310                    none          73             76             80  \n380                    none          80             86             83  \n407                    none          82             80             77  \n443                    none          73             83             76  \n474               completed          90             90             91  \n501               completed          94             87             92  \n505                    none          82             82             80  \n514               completed          77             97             94  \n577                    none          81             91             89  \n642                    none          72             81             79  \n654                    none          73             79             79  \n667                    none          77             85             87  \n715               completed          76             94             87  \n722               completed          74             90             88  \n765                    none          74             72             72  \n781                    none          77             90             84  \n782               completed          76             85             82  \n803                    none          82             85             87  \n823                    none          71             87             82  \n833               completed          77             82             89  \n855                    none          97             97             96  \n969                    none          75             84             80  ",
      "text/html": "<div>\n<style scoped>\n    .dataframe tbody tr th:only-of-type {\n        vertical-align: middle;\n    }\n\n    .dataframe tbody tr th {\n        vertical-align: top;\n    }\n\n    .dataframe thead th {\n        text-align: right;\n    }\n</style>\n<table border=\"1\" class=\"dataframe\">\n  <thead>\n    <tr style=\"text-align: right;\">\n      <th></th>\n      <th>gender</th>\n      <th>race/ethnicity</th>\n      <th>parental level of education</th>\n      <th>lunch</th>\n      <th>test preparation course</th>\n      <th>math score</th>\n      <th>reading score</th>\n      <th>writing score</th>\n    </tr>\n  </thead>\n  <tbody>\n    <tr>\n      <th>0</th>\n      <td>female</td>\n      <td>group B</td>\n      <td>bachelor's degree</td>\n      <td>standard</td>\n      <td>none</td>\n      <td>72</td>\n      <td>72</td>\n      <td>74</td>\n    </tr>\n    <tr>\n      <th>2</th>\n      <td>female</td>\n      <td>group B</td>\n      <td>master's degree</td>\n      <td>standard</td>\n      <td>none</td>\n      <td>90</td>\n      <td>95</td>\n      <td>93</td>\n    </tr>\n    <tr>\n      <th>5</th>\n      <td>female</td>\n      <td>group B</td>\n      <td>associate's degree</td>\n      <td>standard</td>\n      <td>none</td>\n      <td>71</td>\n      <td>83</td>\n      <td>78</td>\n    </tr>\n    <tr>\n      <th>6</th>\n      <td>female</td>\n      <td>group B</td>\n      <td>some college</td>\n      <td>standard</td>\n      <td>completed</td>\n      <td>88</td>\n      <td>95</td>\n      <td>92</td>\n    </tr>\n    <tr>\n      <th>94</th>\n      <td>female</td>\n      <td>group B</td>\n      <td>some college</td>\n      <td>standard</td>\n      <td>none</td>\n      <td>79</td>\n      <td>86</td>\n      <td>92</td>\n    </tr>\n    <tr>\n      <th>116</th>\n      <td>female</td>\n      <td>group B</td>\n      <td>bachelor's degree</td>\n      <td>free/reduced</td>\n      <td>none</td>\n      <td>75</td>\n      <td>85</td>\n      <td>82</td>\n    </tr>\n    <tr>\n      <th>125</th>\n      <td>female</td>\n      <td>group B</td>\n      <td>high school</td>\n      <td>standard</td>\n      <td>none</td>\n      <td>87</td>\n      <td>95</td>\n      <td>86</td>\n    </tr>\n    <tr>\n      <th>199</th>\n      <td>female</td>\n      <td>group B</td>\n      <td>bachelor's degree</td>\n      <td>free/reduced</td>\n      <td>none</td>\n      <td>78</td>\n      <td>79</td>\n      <td>76</td>\n    </tr>\n    <tr>\n      <th>208</th>\n      <td>female</td>\n      <td>group B</td>\n      <td>some college</td>\n      <td>free/reduced</td>\n      <td>none</td>\n      <td>74</td>\n      <td>81</td>\n      <td>76</td>\n    </tr>\n    <tr>\n      <th>310</th>\n      <td>female</td>\n      <td>group B</td>\n      <td>associate's degree</td>\n      <td>standard</td>\n      <td>none</td>\n      <td>73</td>\n      <td>76</td>\n      <td>80</td>\n    </tr>\n    <tr>\n      <th>380</th>\n      <td>female</td>\n      <td>group B</td>\n      <td>associate's degree</td>\n      <td>standard</td>\n      <td>none</td>\n      <td>80</td>\n      <td>86</td>\n      <td>83</td>\n    </tr>\n    <tr>\n      <th>407</th>\n      <td>female</td>\n      <td>group B</td>\n      <td>associate's degree</td>\n      <td>standard</td>\n      <td>none</td>\n      <td>82</td>\n      <td>80</td>\n      <td>77</td>\n    </tr>\n    <tr>\n      <th>443</th>\n      <td>female</td>\n      <td>group B</td>\n      <td>associate's degree</td>\n      <td>standard</td>\n      <td>none</td>\n      <td>73</td>\n      <td>83</td>\n      <td>76</td>\n    </tr>\n    <tr>\n      <th>474</th>\n      <td>female</td>\n      <td>group B</td>\n      <td>associate's degree</td>\n      <td>standard</td>\n      <td>completed</td>\n      <td>90</td>\n      <td>90</td>\n      <td>91</td>\n    </tr>\n    <tr>\n      <th>501</th>\n      <td>female</td>\n      <td>group B</td>\n      <td>associate's degree</td>\n      <td>standard</td>\n      <td>completed</td>\n      <td>94</td>\n      <td>87</td>\n      <td>92</td>\n    </tr>\n    <tr>\n      <th>505</th>\n      <td>female</td>\n      <td>group B</td>\n      <td>some high school</td>\n      <td>standard</td>\n      <td>none</td>\n      <td>82</td>\n      <td>82</td>\n      <td>80</td>\n    </tr>\n    <tr>\n      <th>514</th>\n      <td>female</td>\n      <td>group B</td>\n      <td>master's degree</td>\n      <td>free/reduced</td>\n      <td>completed</td>\n      <td>77</td>\n      <td>97</td>\n      <td>94</td>\n    </tr>\n    <tr>\n      <th>577</th>\n      <td>female</td>\n      <td>group B</td>\n      <td>high school</td>\n      <td>standard</td>\n      <td>none</td>\n      <td>81</td>\n      <td>91</td>\n      <td>89</td>\n    </tr>\n    <tr>\n      <th>642</th>\n      <td>female</td>\n      <td>group B</td>\n      <td>some high school</td>\n      <td>free/reduced</td>\n      <td>none</td>\n      <td>72</td>\n      <td>81</td>\n      <td>79</td>\n    </tr>\n    <tr>\n      <th>654</th>\n      <td>female</td>\n      <td>group B</td>\n      <td>some high school</td>\n      <td>standard</td>\n      <td>none</td>\n      <td>73</td>\n      <td>79</td>\n      <td>79</td>\n    </tr>\n    <tr>\n      <th>667</th>\n      <td>female</td>\n      <td>group B</td>\n      <td>bachelor's degree</td>\n      <td>free/reduced</td>\n      <td>none</td>\n      <td>77</td>\n      <td>85</td>\n      <td>87</td>\n    </tr>\n    <tr>\n      <th>715</th>\n      <td>female</td>\n      <td>group B</td>\n      <td>associate's degree</td>\n      <td>free/reduced</td>\n      <td>completed</td>\n      <td>76</td>\n      <td>94</td>\n      <td>87</td>\n    </tr>\n    <tr>\n      <th>722</th>\n      <td>female</td>\n      <td>group B</td>\n      <td>some high school</td>\n      <td>free/reduced</td>\n      <td>completed</td>\n      <td>74</td>\n      <td>90</td>\n      <td>88</td>\n    </tr>\n    <tr>\n      <th>765</th>\n      <td>female</td>\n      <td>group B</td>\n      <td>high school</td>\n      <td>standard</td>\n      <td>none</td>\n      <td>74</td>\n      <td>72</td>\n      <td>72</td>\n    </tr>\n    <tr>\n      <th>781</th>\n      <td>female</td>\n      <td>group B</td>\n      <td>master's degree</td>\n      <td>standard</td>\n      <td>none</td>\n      <td>77</td>\n      <td>90</td>\n      <td>84</td>\n    </tr>\n    <tr>\n      <th>782</th>\n      <td>female</td>\n      <td>group B</td>\n      <td>high school</td>\n      <td>free/reduced</td>\n      <td>completed</td>\n      <td>76</td>\n      <td>85</td>\n      <td>82</td>\n    </tr>\n    <tr>\n      <th>803</th>\n      <td>female</td>\n      <td>group B</td>\n      <td>some college</td>\n      <td>standard</td>\n      <td>none</td>\n      <td>82</td>\n      <td>85</td>\n      <td>87</td>\n    </tr>\n    <tr>\n      <th>823</th>\n      <td>female</td>\n      <td>group B</td>\n      <td>high school</td>\n      <td>free/reduced</td>\n      <td>none</td>\n      <td>71</td>\n      <td>87</td>\n      <td>82</td>\n    </tr>\n    <tr>\n      <th>833</th>\n      <td>female</td>\n      <td>group B</td>\n      <td>high school</td>\n      <td>standard</td>\n      <td>completed</td>\n      <td>77</td>\n      <td>82</td>\n      <td>89</td>\n    </tr>\n    <tr>\n      <th>855</th>\n      <td>female</td>\n      <td>group B</td>\n      <td>bachelor's degree</td>\n      <td>standard</td>\n      <td>none</td>\n      <td>97</td>\n      <td>97</td>\n      <td>96</td>\n    </tr>\n    <tr>\n      <th>969</th>\n      <td>female</td>\n      <td>group B</td>\n      <td>bachelor's degree</td>\n      <td>standard</td>\n      <td>none</td>\n      <td>75</td>\n      <td>84</td>\n      <td>80</td>\n    </tr>\n  </tbody>\n</table>\n</div>"
     },
     "execution_count": 63,
     "metadata": {},
     "output_type": "execute_result"
    }
   ],
   "source": [
    "df.query(\"`gender` == 'female' & `math score` > 70 and `race/ethnicity` == 'group B'\")"
   ],
   "metadata": {
    "collapsed": false,
    "pycharm": {
     "name": "#%%\n"
    }
   }
  },
  {
   "cell_type": "code",
   "execution_count": 67,
   "outputs": [
    {
     "data": {
      "text/plain": "     math score  reading score  writing score\n0            72             72             74\n1            69             90             88\n2            90             95             93\n3            47             57             44\n4            76             78             75\n..          ...            ...            ...\n995          88             99             95\n996          62             55             55\n997          59             71             65\n998          68             78             77\n999          77             86             86\n\n[1000 rows x 3 columns]",
      "text/html": "<div>\n<style scoped>\n    .dataframe tbody tr th:only-of-type {\n        vertical-align: middle;\n    }\n\n    .dataframe tbody tr th {\n        vertical-align: top;\n    }\n\n    .dataframe thead th {\n        text-align: right;\n    }\n</style>\n<table border=\"1\" class=\"dataframe\">\n  <thead>\n    <tr style=\"text-align: right;\">\n      <th></th>\n      <th>math score</th>\n      <th>reading score</th>\n      <th>writing score</th>\n    </tr>\n  </thead>\n  <tbody>\n    <tr>\n      <th>0</th>\n      <td>72</td>\n      <td>72</td>\n      <td>74</td>\n    </tr>\n    <tr>\n      <th>1</th>\n      <td>69</td>\n      <td>90</td>\n      <td>88</td>\n    </tr>\n    <tr>\n      <th>2</th>\n      <td>90</td>\n      <td>95</td>\n      <td>93</td>\n    </tr>\n    <tr>\n      <th>3</th>\n      <td>47</td>\n      <td>57</td>\n      <td>44</td>\n    </tr>\n    <tr>\n      <th>4</th>\n      <td>76</td>\n      <td>78</td>\n      <td>75</td>\n    </tr>\n    <tr>\n      <th>...</th>\n      <td>...</td>\n      <td>...</td>\n      <td>...</td>\n    </tr>\n    <tr>\n      <th>995</th>\n      <td>88</td>\n      <td>99</td>\n      <td>95</td>\n    </tr>\n    <tr>\n      <th>996</th>\n      <td>62</td>\n      <td>55</td>\n      <td>55</td>\n    </tr>\n    <tr>\n      <th>997</th>\n      <td>59</td>\n      <td>71</td>\n      <td>65</td>\n    </tr>\n    <tr>\n      <th>998</th>\n      <td>68</td>\n      <td>78</td>\n      <td>77</td>\n    </tr>\n    <tr>\n      <th>999</th>\n      <td>77</td>\n      <td>86</td>\n      <td>86</td>\n    </tr>\n  </tbody>\n</table>\n<p>1000 rows × 3 columns</p>\n</div>"
     },
     "execution_count": 67,
     "metadata": {},
     "output_type": "execute_result"
    }
   ],
   "source": [
    "df.filter(like='sc')"
   ],
   "metadata": {
    "collapsed": false,
    "pycharm": {
     "name": "#%%\n"
    }
   }
  },
  {
   "cell_type": "code",
   "execution_count": null,
   "outputs": [],
   "source": [],
   "metadata": {
    "collapsed": false,
    "pycharm": {
     "name": "#%%\n"
    }
   }
  },
  {
   "cell_type": "code",
   "execution_count": null,
   "outputs": [],
   "source": [],
   "metadata": {
    "collapsed": false,
    "pycharm": {
     "name": "#%%\n"
    }
   }
  },
  {
   "cell_type": "code",
   "execution_count": null,
   "outputs": [],
   "source": [],
   "metadata": {
    "collapsed": false,
    "pycharm": {
     "name": "#%%\n"
    }
   }
  }
 ],
 "metadata": {
  "kernelspec": {
   "display_name": "Python 3",
   "language": "python",
   "name": "python3"
  },
  "language_info": {
   "codemirror_mode": {
    "name": "ipython",
    "version": 2
   },
   "file_extension": ".py",
   "mimetype": "text/x-python",
   "name": "python",
   "nbconvert_exporter": "python",
   "pygments_lexer": "ipython2",
   "version": "2.7.6"
  }
 },
 "nbformat": 4,
 "nbformat_minor": 0
}