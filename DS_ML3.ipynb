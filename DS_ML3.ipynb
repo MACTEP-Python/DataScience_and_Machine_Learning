{
 "cells": [
  {
   "cell_type": "code",
   "execution_count": 1,
   "metadata": {
    "collapsed": true
   },
   "outputs": [],
   "source": [
    "import pandas as pd\n",
    "import numpy as np\n",
    "import matplotlib.pyplot as plt\n",
    "import seaborn as sns\n",
    "%matplotlib inline\n",
    "from datasets import get_dataset"
   ]
  },
  {
   "cell_type": "code",
   "execution_count": 7,
   "outputs": [
    {
     "data": {
      "text/plain": "   step_id   timestamp      action  user_id\n0    32815  1434340848      viewed    17632\n1    32815  1434340848      passed    17632\n2    32815  1434340848  discovered    17632\n3    32811  1434340895  discovered    17632\n4    32811  1434340895      viewed    17632",
      "text/html": "<div>\n<style scoped>\n    .dataframe tbody tr th:only-of-type {\n        vertical-align: middle;\n    }\n\n    .dataframe tbody tr th {\n        vertical-align: top;\n    }\n\n    .dataframe thead th {\n        text-align: right;\n    }\n</style>\n<table border=\"1\" class=\"dataframe\">\n  <thead>\n    <tr style=\"text-align: right;\">\n      <th></th>\n      <th>step_id</th>\n      <th>timestamp</th>\n      <th>action</th>\n      <th>user_id</th>\n    </tr>\n  </thead>\n  <tbody>\n    <tr>\n      <th>0</th>\n      <td>32815</td>\n      <td>1434340848</td>\n      <td>viewed</td>\n      <td>17632</td>\n    </tr>\n    <tr>\n      <th>1</th>\n      <td>32815</td>\n      <td>1434340848</td>\n      <td>passed</td>\n      <td>17632</td>\n    </tr>\n    <tr>\n      <th>2</th>\n      <td>32815</td>\n      <td>1434340848</td>\n      <td>discovered</td>\n      <td>17632</td>\n    </tr>\n    <tr>\n      <th>3</th>\n      <td>32811</td>\n      <td>1434340895</td>\n      <td>discovered</td>\n      <td>17632</td>\n    </tr>\n    <tr>\n      <th>4</th>\n      <td>32811</td>\n      <td>1434340895</td>\n      <td>viewed</td>\n      <td>17632</td>\n    </tr>\n  </tbody>\n</table>\n</div>"
     },
     "execution_count": 7,
     "metadata": {},
     "output_type": "execute_result"
    }
   ],
   "source": [
    "event_data_train = pd.read_csv('Data/event_data_train/event_data_train.csv')\n",
    "event_data_train.head()"
   ],
   "metadata": {
    "collapsed": false,
    "pycharm": {
     "name": "#%%\n"
    }
   }
  },
  {
   "cell_type": "code",
   "execution_count": 17,
   "outputs": [],
   "source": [
    "event_data_train['date'] = pd.to_datetime(event_data_train.timestamp, unit='s')\n",
    "event_data_train['day'] = event_data_train.date.dt.date\n",
    "event_data_train.head()\n",
    "event_data_train.drop('Date', axis=1, inplace=True)"
   ],
   "metadata": {
    "collapsed": false,
    "pycharm": {
     "name": "#%%\n"
    }
   }
  },
  {
   "cell_type": "code",
   "execution_count": 29,
   "outputs": [
    {
     "data": {
      "text/plain": "   step_id   timestamp      action  user_id                date         day\n0    32815  1434340848      viewed    17632 2015-06-15 04:00:48  2015-06-15\n1    32815  1434340848      passed    17632 2015-06-15 04:00:48  2015-06-15\n2    32815  1434340848  discovered    17632 2015-06-15 04:00:48  2015-06-15\n3    32811  1434340895  discovered    17632 2015-06-15 04:01:35  2015-06-15\n4    32811  1434340895      viewed    17632 2015-06-15 04:01:35  2015-06-15",
      "text/html": "<div>\n<style scoped>\n    .dataframe tbody tr th:only-of-type {\n        vertical-align: middle;\n    }\n\n    .dataframe tbody tr th {\n        vertical-align: top;\n    }\n\n    .dataframe thead th {\n        text-align: right;\n    }\n</style>\n<table border=\"1\" class=\"dataframe\">\n  <thead>\n    <tr style=\"text-align: right;\">\n      <th></th>\n      <th>step_id</th>\n      <th>timestamp</th>\n      <th>action</th>\n      <th>user_id</th>\n      <th>date</th>\n      <th>day</th>\n    </tr>\n  </thead>\n  <tbody>\n    <tr>\n      <th>0</th>\n      <td>32815</td>\n      <td>1434340848</td>\n      <td>viewed</td>\n      <td>17632</td>\n      <td>2015-06-15 04:00:48</td>\n      <td>2015-06-15</td>\n    </tr>\n    <tr>\n      <th>1</th>\n      <td>32815</td>\n      <td>1434340848</td>\n      <td>passed</td>\n      <td>17632</td>\n      <td>2015-06-15 04:00:48</td>\n      <td>2015-06-15</td>\n    </tr>\n    <tr>\n      <th>2</th>\n      <td>32815</td>\n      <td>1434340848</td>\n      <td>discovered</td>\n      <td>17632</td>\n      <td>2015-06-15 04:00:48</td>\n      <td>2015-06-15</td>\n    </tr>\n    <tr>\n      <th>3</th>\n      <td>32811</td>\n      <td>1434340895</td>\n      <td>discovered</td>\n      <td>17632</td>\n      <td>2015-06-15 04:01:35</td>\n      <td>2015-06-15</td>\n    </tr>\n    <tr>\n      <th>4</th>\n      <td>32811</td>\n      <td>1434340895</td>\n      <td>viewed</td>\n      <td>17632</td>\n      <td>2015-06-15 04:01:35</td>\n      <td>2015-06-15</td>\n    </tr>\n  </tbody>\n</table>\n</div>"
     },
     "execution_count": 29,
     "metadata": {},
     "output_type": "execute_result"
    }
   ],
   "source": [
    "event_data_train.head()\n"
   ],
   "metadata": {
    "collapsed": false,
    "pycharm": {
     "name": "#%%\n"
    }
   }
  },
  {
   "cell_type": "code",
   "execution_count": 32,
   "outputs": [
    {
     "data": {
      "text/plain": "0         56.060208\n1         79.852419\n2          2.112083\n3          1.084606\n4         32.047106\n            ...    \n97867    166.056586\n97868      5.845613\n97869      1.137176\n97870      0.659942\n97871     18.148032\nLength: 97872, dtype: float64"
     },
     "execution_count": 32,
     "metadata": {},
     "output_type": "execute_result"
    }
   ],
   "source": [
    "gap_event_data = event_data_train[['user_id', 'day', 'timestamp']].drop_duplicates(subset=['user_id', 'day']).\\\n",
    "    groupby('user_id')['timestamp'].apply(list).\\\n",
    "    apply(np.diff).values\n",
    "gap_data = pd.Series(np.concatenate(gap_event_data, axis=0)) / (24 * 3600)\n",
    "gap_data"
   ],
   "metadata": {
    "collapsed": false,
    "pycharm": {
     "name": "#%%\n"
    }
   }
  },
  {
   "cell_type": "code",
   "execution_count": 40,
   "outputs": [
    {
     "data": {
      "text/plain": "user_id\n1046     478\n13268    385\n4374     327\n10794    281\n3572     236\n        ... \n11846      1\n11847      1\n11851      1\n11853      1\n26798      1\nName: day, Length: 19234, dtype: int64"
     },
     "execution_count": 40,
     "metadata": {},
     "output_type": "execute_result"
    }
   ],
   "source": [
    "event_data_train.groupby('user_id')['day'].nunique().sort_values(ascending=False)"
   ],
   "metadata": {
    "collapsed": false,
    "pycharm": {
     "name": "#%%\n"
    }
   }
  },
  {
   "cell_type": "code",
   "execution_count": 41,
   "outputs": [
    {
     "data": {
      "text/plain": "user_id\n1046     87\n3572     51\n6662     51\n11651    51\n17825    50\n         ..\n12688     1\n12674     1\n12673     1\n12672     1\n26798     1\nName: day, Length: 9940, dtype: int64"
     },
     "execution_count": 41,
     "metadata": {},
     "output_type": "execute_result"
    }
   ],
   "source": [
    "submissions_data = pd.read_csv('Data/submissions_data_train/submissions_data_train.csv')\n",
    "submissions_data['date'] = pd.to_datetime(submissions_data.timestamp, unit='s')\n",
    "submissions_data['day'] = submissions_data.date.dt.date\n",
    "submissions_data.groupby('user_id')['day'].nunique().sort_values(ascending=False)"
   ],
   "metadata": {
    "collapsed": false,
    "pycharm": {
     "name": "#%%\n"
    }
   }
  },
  {
   "cell_type": "code",
   "execution_count": 3,
   "outputs": [],
   "source": [
    "import pandas as pd\n",
    "from sklearn.tree import DecisionTreeClassifier\n",
    "from sklearn.metrics import precision_score"
   ],
   "metadata": {
    "collapsed": false,
    "pycharm": {
     "name": "#%%\n"
    }
   }
  },
  {
   "cell_type": "code",
   "execution_count": 3,
   "outputs": [
    {
     "data": {
      "text/plain": "                   song  year          artist    genre  \\\n0            the-ownerz  2007       gangstarr  Hip-Hop   \n1  dead-sound-of-misery  2006  blind-guardian    Metal   \n2         modred-s-song  2006  blind-guardian    Metal   \n3        the-ninth-wave  2015  blind-guardian    Metal   \n4                skills  2014       gangstarr  Hip-Hop   \n\n                                              lyrics  length  commas  \\\n0  \"One-two..\"\\n\"One-two, shots to the chin.. kno...    1300      24   \n1  It's dark\\nLet's do it now\\nBring in the siren...    1566       0   \n2  I've lost my battle before it starts\\nmy first...     996       1   \n3  As dark night embraces\\nWe are the nation\\nI w...    2868       5   \n4  Skills, skills, skills\\n\"My Microphone\"\\n\"It's...    3351      22   \n\n   exclamations  colons  hyphens  \n0             5       0       11  \n1             0       0        0  \n2             0       1        0  \n3             0       0        0  \n4             0       0        3  ",
      "text/html": "<div>\n<style scoped>\n    .dataframe tbody tr th:only-of-type {\n        vertical-align: middle;\n    }\n\n    .dataframe tbody tr th {\n        vertical-align: top;\n    }\n\n    .dataframe thead th {\n        text-align: right;\n    }\n</style>\n<table border=\"1\" class=\"dataframe\">\n  <thead>\n    <tr style=\"text-align: right;\">\n      <th></th>\n      <th>song</th>\n      <th>year</th>\n      <th>artist</th>\n      <th>genre</th>\n      <th>lyrics</th>\n      <th>length</th>\n      <th>commas</th>\n      <th>exclamations</th>\n      <th>colons</th>\n      <th>hyphens</th>\n    </tr>\n  </thead>\n  <tbody>\n    <tr>\n      <th>0</th>\n      <td>the-ownerz</td>\n      <td>2007</td>\n      <td>gangstarr</td>\n      <td>Hip-Hop</td>\n      <td>\"One-two..\"\\n\"One-two, shots to the chin.. kno...</td>\n      <td>1300</td>\n      <td>24</td>\n      <td>5</td>\n      <td>0</td>\n      <td>11</td>\n    </tr>\n    <tr>\n      <th>1</th>\n      <td>dead-sound-of-misery</td>\n      <td>2006</td>\n      <td>blind-guardian</td>\n      <td>Metal</td>\n      <td>It's dark\\nLet's do it now\\nBring in the siren...</td>\n      <td>1566</td>\n      <td>0</td>\n      <td>0</td>\n      <td>0</td>\n      <td>0</td>\n    </tr>\n    <tr>\n      <th>2</th>\n      <td>modred-s-song</td>\n      <td>2006</td>\n      <td>blind-guardian</td>\n      <td>Metal</td>\n      <td>I've lost my battle before it starts\\nmy first...</td>\n      <td>996</td>\n      <td>1</td>\n      <td>0</td>\n      <td>1</td>\n      <td>0</td>\n    </tr>\n    <tr>\n      <th>3</th>\n      <td>the-ninth-wave</td>\n      <td>2015</td>\n      <td>blind-guardian</td>\n      <td>Metal</td>\n      <td>As dark night embraces\\nWe are the nation\\nI w...</td>\n      <td>2868</td>\n      <td>5</td>\n      <td>0</td>\n      <td>0</td>\n      <td>0</td>\n    </tr>\n    <tr>\n      <th>4</th>\n      <td>skills</td>\n      <td>2014</td>\n      <td>gangstarr</td>\n      <td>Hip-Hop</td>\n      <td>Skills, skills, skills\\n\"My Microphone\"\\n\"It's...</td>\n      <td>3351</td>\n      <td>22</td>\n      <td>0</td>\n      <td>0</td>\n      <td>3</td>\n    </tr>\n  </tbody>\n</table>\n</div>"
     },
     "execution_count": 3,
     "metadata": {},
     "output_type": "execute_result"
    }
   ],
   "source": [
    "df = pd.read_csv('Data/songs.csv')\n",
    "df.head()"
   ],
   "metadata": {
    "collapsed": false,
    "pycharm": {
     "name": "#%%\n"
    }
   }
  },
  {
   "cell_type": "code",
   "execution_count": 2,
   "outputs": [
    {
     "data": {
      "text/plain": "31978"
     },
     "execution_count": 2,
     "metadata": {},
     "output_type": "execute_result"
    }
   ],
   "source": [
    "data = pd.read_csv('https://stepik.org/media/attachments/course/4852/submissions_data_train.zip')\n",
    "data[data.submission_status == \"wrong\"].groupby(['user_id', 'step_id'], as_index=False).agg({'timestamp':'max'}).step_id.value_counts().keys()[0]"
   ],
   "metadata": {
    "collapsed": false,
    "pycharm": {
     "name": "#%%\n"
    }
   }
  },
  {
   "cell_type": "code",
   "execution_count": 13,
   "outputs": [],
   "source": [
    "from sklearn.ensemble import RandomForestClassifier\n",
    "np.random.seed(0)\n"
   ],
   "metadata": {
    "collapsed": false,
    "pycharm": {
     "name": "#%%\n"
    }
   }
  },
  {
   "cell_type": "code",
   "execution_count": 14,
   "outputs": [
    {
     "data": {
      "text/plain": "   age  sex  cp  trestbps  chol  fbs  restecg  thalach  exang  oldpeak  slope  \\\n0   63    1   3       145   233    1        0      150      0      2.3      0   \n1   37    1   2       130   250    0        1      187      0      3.5      0   \n2   41    0   1       130   204    0        0      172      0      1.4      2   \n3   56    1   1       120   236    0        1      178      0      0.8      2   \n4   57    0   0       120   354    0        1      163      1      0.6      2   \n\n   ca  thal  target  \n0   0     1       1  \n1   0     2       1  \n2   0     2       1  \n3   0     2       1  \n4   0     2       1  ",
      "text/html": "<div>\n<style scoped>\n    .dataframe tbody tr th:only-of-type {\n        vertical-align: middle;\n    }\n\n    .dataframe tbody tr th {\n        vertical-align: top;\n    }\n\n    .dataframe thead th {\n        text-align: right;\n    }\n</style>\n<table border=\"1\" class=\"dataframe\">\n  <thead>\n    <tr style=\"text-align: right;\">\n      <th></th>\n      <th>age</th>\n      <th>sex</th>\n      <th>cp</th>\n      <th>trestbps</th>\n      <th>chol</th>\n      <th>fbs</th>\n      <th>restecg</th>\n      <th>thalach</th>\n      <th>exang</th>\n      <th>oldpeak</th>\n      <th>slope</th>\n      <th>ca</th>\n      <th>thal</th>\n      <th>target</th>\n    </tr>\n  </thead>\n  <tbody>\n    <tr>\n      <th>0</th>\n      <td>63</td>\n      <td>1</td>\n      <td>3</td>\n      <td>145</td>\n      <td>233</td>\n      <td>1</td>\n      <td>0</td>\n      <td>150</td>\n      <td>0</td>\n      <td>2.3</td>\n      <td>0</td>\n      <td>0</td>\n      <td>1</td>\n      <td>1</td>\n    </tr>\n    <tr>\n      <th>1</th>\n      <td>37</td>\n      <td>1</td>\n      <td>2</td>\n      <td>130</td>\n      <td>250</td>\n      <td>0</td>\n      <td>1</td>\n      <td>187</td>\n      <td>0</td>\n      <td>3.5</td>\n      <td>0</td>\n      <td>0</td>\n      <td>2</td>\n      <td>1</td>\n    </tr>\n    <tr>\n      <th>2</th>\n      <td>41</td>\n      <td>0</td>\n      <td>1</td>\n      <td>130</td>\n      <td>204</td>\n      <td>0</td>\n      <td>0</td>\n      <td>172</td>\n      <td>0</td>\n      <td>1.4</td>\n      <td>2</td>\n      <td>0</td>\n      <td>2</td>\n      <td>1</td>\n    </tr>\n    <tr>\n      <th>3</th>\n      <td>56</td>\n      <td>1</td>\n      <td>1</td>\n      <td>120</td>\n      <td>236</td>\n      <td>0</td>\n      <td>1</td>\n      <td>178</td>\n      <td>0</td>\n      <td>0.8</td>\n      <td>2</td>\n      <td>0</td>\n      <td>2</td>\n      <td>1</td>\n    </tr>\n    <tr>\n      <th>4</th>\n      <td>57</td>\n      <td>0</td>\n      <td>0</td>\n      <td>120</td>\n      <td>354</td>\n      <td>0</td>\n      <td>1</td>\n      <td>163</td>\n      <td>1</td>\n      <td>0.6</td>\n      <td>2</td>\n      <td>0</td>\n      <td>2</td>\n      <td>1</td>\n    </tr>\n  </tbody>\n</table>\n</div>"
     },
     "execution_count": 14,
     "metadata": {},
     "output_type": "execute_result"
    }
   ],
   "source": [
    "df = pd.read_csv('Data/heart.csv')\n",
    "df.head()"
   ],
   "metadata": {
    "collapsed": false,
    "pycharm": {
     "name": "#%%\n"
    }
   }
  },
  {
   "cell_type": "code",
   "execution_count": 15,
   "outputs": [
    {
     "data": {
      "text/plain": "   age  sex  cp  trestbps  chol  fbs  restecg  thalach  exang  oldpeak  slope  \\\n0   63    1   3       145   233    1        0      150      0      2.3      0   \n1   37    1   2       130   250    0        1      187      0      3.5      0   \n2   41    0   1       130   204    0        0      172      0      1.4      2   \n3   56    1   1       120   236    0        1      178      0      0.8      2   \n4   57    0   0       120   354    0        1      163      1      0.6      2   \n\n   ca  thal  \n0   0     1  \n1   0     2  \n2   0     2  \n3   0     2  \n4   0     2  ",
      "text/html": "<div>\n<style scoped>\n    .dataframe tbody tr th:only-of-type {\n        vertical-align: middle;\n    }\n\n    .dataframe tbody tr th {\n        vertical-align: top;\n    }\n\n    .dataframe thead th {\n        text-align: right;\n    }\n</style>\n<table border=\"1\" class=\"dataframe\">\n  <thead>\n    <tr style=\"text-align: right;\">\n      <th></th>\n      <th>age</th>\n      <th>sex</th>\n      <th>cp</th>\n      <th>trestbps</th>\n      <th>chol</th>\n      <th>fbs</th>\n      <th>restecg</th>\n      <th>thalach</th>\n      <th>exang</th>\n      <th>oldpeak</th>\n      <th>slope</th>\n      <th>ca</th>\n      <th>thal</th>\n    </tr>\n  </thead>\n  <tbody>\n    <tr>\n      <th>0</th>\n      <td>63</td>\n      <td>1</td>\n      <td>3</td>\n      <td>145</td>\n      <td>233</td>\n      <td>1</td>\n      <td>0</td>\n      <td>150</td>\n      <td>0</td>\n      <td>2.3</td>\n      <td>0</td>\n      <td>0</td>\n      <td>1</td>\n    </tr>\n    <tr>\n      <th>1</th>\n      <td>37</td>\n      <td>1</td>\n      <td>2</td>\n      <td>130</td>\n      <td>250</td>\n      <td>0</td>\n      <td>1</td>\n      <td>187</td>\n      <td>0</td>\n      <td>3.5</td>\n      <td>0</td>\n      <td>0</td>\n      <td>2</td>\n    </tr>\n    <tr>\n      <th>2</th>\n      <td>41</td>\n      <td>0</td>\n      <td>1</td>\n      <td>130</td>\n      <td>204</td>\n      <td>0</td>\n      <td>0</td>\n      <td>172</td>\n      <td>0</td>\n      <td>1.4</td>\n      <td>2</td>\n      <td>0</td>\n      <td>2</td>\n    </tr>\n    <tr>\n      <th>3</th>\n      <td>56</td>\n      <td>1</td>\n      <td>1</td>\n      <td>120</td>\n      <td>236</td>\n      <td>0</td>\n      <td>1</td>\n      <td>178</td>\n      <td>0</td>\n      <td>0.8</td>\n      <td>2</td>\n      <td>0</td>\n      <td>2</td>\n    </tr>\n    <tr>\n      <th>4</th>\n      <td>57</td>\n      <td>0</td>\n      <td>0</td>\n      <td>120</td>\n      <td>354</td>\n      <td>0</td>\n      <td>1</td>\n      <td>163</td>\n      <td>1</td>\n      <td>0.6</td>\n      <td>2</td>\n      <td>0</td>\n      <td>2</td>\n    </tr>\n  </tbody>\n</table>\n</div>"
     },
     "execution_count": 15,
     "metadata": {},
     "output_type": "execute_result"
    }
   ],
   "source": [
    "y_test = df.target\n",
    "X_test = df.drop('target', axis=1)\n",
    "y_test.head()\n",
    "X_test.head()"
   ],
   "metadata": {
    "collapsed": false,
    "pycharm": {
     "name": "#%%\n"
    }
   }
  },
  {
   "cell_type": "code",
   "execution_count": 16,
   "outputs": [],
   "source": [
    "rf = RandomForestClassifier(n_estimators=15, max_depth=5).fit(X_test, y_test)\n"
   ],
   "metadata": {
    "collapsed": false,
    "pycharm": {
     "name": "#%%\n"
    }
   }
  },
  {
   "cell_type": "code",
   "execution_count": 17,
   "outputs": [
    {
     "data": {
      "text/plain": "<AxesSubplot:>"
     },
     "execution_count": 17,
     "metadata": {},
     "output_type": "execute_result"
    },
    {
     "data": {
      "text/plain": "<Figure size 864x576 with 1 Axes>",
      "image/png": "[encoded data removed]"
     },
     "metadata": {
      "needs_background": "light"
     },
     "output_type": "display_data"
    }
   ],
   "source": [
    "imp = pd.DataFrame(rf.feature_importances_, index=X_test.columns, columns=['importance'])\n",
    "imp.sort_values('importance').plot(kind='barh', figsize=(12, 8))"
   ],
   "metadata": {
    "collapsed": false,
    "pycharm": {
     "name": "#%%\n"
    }
   }
  }
 ],
 "metadata": {
  "kernelspec": {
   "display_name": "Python 3",
   "language": "python",
   "name": "python3"
  },
  "language_info": {
   "codemirror_mode": {
    "name": "ipython",
    "version": 2
   },
   "file_extension": ".py",
   "mimetype": "text/x-python",
   "name": "python",
   "nbconvert_exporter": "python",
   "pygments_lexer": "ipython2",
   "version": "2.7.6"
  }
 },
 "nbformat": 4,
 "nbformat_minor": 0
}