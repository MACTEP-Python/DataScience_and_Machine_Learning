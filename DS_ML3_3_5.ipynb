{
 "cells": [
  {
   "cell_type": "code",
   "execution_count": 1,
   "metadata": {
    "collapsed": true
   },
   "outputs": [],
   "source": [
    "import pandas as pd\n",
    "import numpy as np\n",
    "import matplotlib.pyplot as plt\n",
    "import seaborn as sns\n",
    "from sklearn.tree import DecisionTreeClassifier\n",
    "from sklearn.metrics import precision_score\n",
    "from sklearn.ensemble import RandomForestClassifier\n",
    "from sklearn.model_selection import GridSearchCV\n",
    "from sklearn.metrics import confusion_matrix\n",
    "%matplotlib inline"
   ]
  },
  {
   "cell_type": "code",
   "execution_count": 2,
   "outputs": [
    {
     "data": {
      "text/plain": "   cap-shape  cap-surface  cap-color  bruises  odor  gill-attachment  \\\n0          2            0          3        1     5                1   \n1          2            0          4        0     5                1   \n2          2            0          3        0     2                1   \n3          0            0          3        0     5                1   \n4          2            3          3        1     5                1   \n\n   gill-spacing  gill-size  gill-color  stalk-shape  ...  \\\n0             0          0           9            1  ...   \n1             0          1          10            0  ...   \n2             0          0           7            0  ...   \n3             1          0           2            0  ...   \n4             0          0          10            1  ...   \n\n   stalk-color-above-ring  stalk-color-below-ring  veil-type  veil-color  \\\n0                       3                       7          0           2   \n1                       7                       4          0           2   \n2                       0                       4          0           2   \n3                       7                       7          0           2   \n4                       3                       6          0           2   \n\n   ring-number  ring-type  spore-print-color  population  habitat  class  \n0            1          4                  3           5        0      0  \n1            1          0                  7           4        0      1  \n2            1          2                  1           5        1      1  \n3            2          4                  7           3        1      0  \n4            1          4                  2           5        0      0  \n\n[5 rows x 23 columns]",
      "text/html": "<div>\n<style scoped>\n    .dataframe tbody tr th:only-of-type {\n        vertical-align: middle;\n    }\n\n    .dataframe tbody tr th {\n        vertical-align: top;\n    }\n\n    .dataframe thead th {\n        text-align: right;\n    }\n</style>\n<table border=\"1\" class=\"dataframe\">\n  <thead>\n    <tr style=\"text-align: right;\">\n      <th></th>\n      <th>cap-shape</th>\n      <th>cap-surface</th>\n      <th>cap-color</th>\n      <th>bruises</th>\n      <th>odor</th>\n      <th>gill-attachment</th>\n      <th>gill-spacing</th>\n      <th>gill-size</th>\n      <th>gill-color</th>\n      <th>stalk-shape</th>\n      <th>...</th>\n      <th>stalk-color-above-ring</th>\n      <th>stalk-color-below-ring</th>\n      <th>veil-type</th>\n      <th>veil-color</th>\n      <th>ring-number</th>\n      <th>ring-type</th>\n      <th>spore-print-color</th>\n      <th>population</th>\n      <th>habitat</th>\n      <th>class</th>\n    </tr>\n  </thead>\n  <tbody>\n    <tr>\n      <th>0</th>\n      <td>2</td>\n      <td>0</td>\n      <td>3</td>\n      <td>1</td>\n      <td>5</td>\n      <td>1</td>\n      <td>0</td>\n      <td>0</td>\n      <td>9</td>\n      <td>1</td>\n      <td>...</td>\n      <td>3</td>\n      <td>7</td>\n      <td>0</td>\n      <td>2</td>\n      <td>1</td>\n      <td>4</td>\n      <td>3</td>\n      <td>5</td>\n      <td>0</td>\n      <td>0</td>\n    </tr>\n    <tr>\n      <th>1</th>\n      <td>2</td>\n      <td>0</td>\n      <td>4</td>\n      <td>0</td>\n      <td>5</td>\n      <td>1</td>\n      <td>0</td>\n      <td>1</td>\n      <td>10</td>\n      <td>0</td>\n      <td>...</td>\n      <td>7</td>\n      <td>4</td>\n      <td>0</td>\n      <td>2</td>\n      <td>1</td>\n      <td>0</td>\n      <td>7</td>\n      <td>4</td>\n      <td>0</td>\n      <td>1</td>\n    </tr>\n    <tr>\n      <th>2</th>\n      <td>2</td>\n      <td>0</td>\n      <td>3</td>\n      <td>0</td>\n      <td>2</td>\n      <td>1</td>\n      <td>0</td>\n      <td>0</td>\n      <td>7</td>\n      <td>0</td>\n      <td>...</td>\n      <td>0</td>\n      <td>4</td>\n      <td>0</td>\n      <td>2</td>\n      <td>1</td>\n      <td>2</td>\n      <td>1</td>\n      <td>5</td>\n      <td>1</td>\n      <td>1</td>\n    </tr>\n    <tr>\n      <th>3</th>\n      <td>0</td>\n      <td>0</td>\n      <td>3</td>\n      <td>0</td>\n      <td>5</td>\n      <td>1</td>\n      <td>1</td>\n      <td>0</td>\n      <td>2</td>\n      <td>0</td>\n      <td>...</td>\n      <td>7</td>\n      <td>7</td>\n      <td>0</td>\n      <td>2</td>\n      <td>2</td>\n      <td>4</td>\n      <td>7</td>\n      <td>3</td>\n      <td>1</td>\n      <td>0</td>\n    </tr>\n    <tr>\n      <th>4</th>\n      <td>2</td>\n      <td>3</td>\n      <td>3</td>\n      <td>1</td>\n      <td>5</td>\n      <td>1</td>\n      <td>0</td>\n      <td>0</td>\n      <td>10</td>\n      <td>1</td>\n      <td>...</td>\n      <td>3</td>\n      <td>6</td>\n      <td>0</td>\n      <td>2</td>\n      <td>1</td>\n      <td>4</td>\n      <td>2</td>\n      <td>5</td>\n      <td>0</td>\n      <td>0</td>\n    </tr>\n  </tbody>\n</table>\n<p>5 rows × 23 columns</p>\n</div>"
     },
     "execution_count": 2,
     "metadata": {},
     "output_type": "execute_result"
    }
   ],
   "source": [
    "df = pd.read_csv('Data/training_mush.csv')\n",
    "df.head()\n"
   ],
   "metadata": {
    "collapsed": false,
    "pycharm": {
     "name": "#%%\n"
    }
   }
  },
  {
   "cell_type": "code",
   "execution_count": 6,
   "outputs": [
    {
     "name": "stdout",
     "output_type": "stream",
     "text": [
      "<class 'pandas.core.frame.DataFrame'>\n",
      "RangeIndex: 6093 entries, 0 to 6092\n",
      "Data columns (total 23 columns):\n",
      " #   Column                    Non-Null Count  Dtype\n",
      "---  ------                    --------------  -----\n",
      " 0   cap-shape                 6093 non-null   int64\n",
      " 1   cap-surface               6093 non-null   int64\n",
      " 2   cap-color                 6093 non-null   int64\n",
      " 3   bruises                   6093 non-null   int64\n",
      " 4   odor                      6093 non-null   int64\n",
      " 5   gill-attachment           6093 non-null   int64\n",
      " 6   gill-spacing              6093 non-null   int64\n",
      " 7   gill-size                 6093 non-null   int64\n",
      " 8   gill-color                6093 non-null   int64\n",
      " 9   stalk-shape               6093 non-null   int64\n",
      " 10  stalk-root                6093 non-null   int64\n",
      " 11  stalk-surface-above-ring  6093 non-null   int64\n",
      " 12  stalk-surface-below-ring  6093 non-null   int64\n",
      " 13  stalk-color-above-ring    6093 non-null   int64\n",
      " 14  stalk-color-below-ring    6093 non-null   int64\n",
      " 15  veil-type                 6093 non-null   int64\n",
      " 16  veil-color                6093 non-null   int64\n",
      " 17  ring-number               6093 non-null   int64\n",
      " 18  ring-type                 6093 non-null   int64\n",
      " 19  spore-print-color         6093 non-null   int64\n",
      " 20  population                6093 non-null   int64\n",
      " 21  habitat                   6093 non-null   int64\n",
      " 22  class                     6093 non-null   int64\n",
      "dtypes: int64(23)\n",
      "memory usage: 1.1 MB\n"
     ]
    },
    {
     "data": {
      "text/plain": "   cap-shape  cap-surface  cap-color  bruises  odor  gill-attachment  \\\n0          2            0          3        1     5                1   \n1          2            0          4        0     5                1   \n2          2            0          3        0     2                1   \n3          0            0          3        0     5                1   \n4          2            3          3        1     5                1   \n\n   gill-spacing  gill-size  gill-color  stalk-shape  ...  \\\n0             0          0           9            1  ...   \n1             0          1          10            0  ...   \n2             0          0           7            0  ...   \n3             1          0           2            0  ...   \n4             0          0          10            1  ...   \n\n   stalk-surface-below-ring  stalk-color-above-ring  stalk-color-below-ring  \\\n0                         2                       3                       7   \n1                         3                       7                       4   \n2                         1                       0                       4   \n3                         2                       7                       7   \n4                         2                       3                       6   \n\n   veil-type  veil-color  ring-number  ring-type  spore-print-color  \\\n0          0           2            1          4                  3   \n1          0           2            1          0                  7   \n2          0           2            1          2                  1   \n3          0           2            2          4                  7   \n4          0           2            1          4                  2   \n\n   population  habitat  \n0           5        0  \n1           4        0  \n2           5        1  \n3           3        1  \n4           5        0  \n\n[5 rows x 22 columns]",
      "text/html": "<div>\n<style scoped>\n    .dataframe tbody tr th:only-of-type {\n        vertical-align: middle;\n    }\n\n    .dataframe tbody tr th {\n        vertical-align: top;\n    }\n\n    .dataframe thead th {\n        text-align: right;\n    }\n</style>\n<table border=\"1\" class=\"dataframe\">\n  <thead>\n    <tr style=\"text-align: right;\">\n      <th></th>\n      <th>cap-shape</th>\n      <th>cap-surface</th>\n      <th>cap-color</th>\n      <th>bruises</th>\n      <th>odor</th>\n      <th>gill-attachment</th>\n      <th>gill-spacing</th>\n      <th>gill-size</th>\n      <th>gill-color</th>\n      <th>stalk-shape</th>\n      <th>...</th>\n      <th>stalk-surface-below-ring</th>\n      <th>stalk-color-above-ring</th>\n      <th>stalk-color-below-ring</th>\n      <th>veil-type</th>\n      <th>veil-color</th>\n      <th>ring-number</th>\n      <th>ring-type</th>\n      <th>spore-print-color</th>\n      <th>population</th>\n      <th>habitat</th>\n    </tr>\n  </thead>\n  <tbody>\n    <tr>\n      <th>0</th>\n      <td>2</td>\n      <td>0</td>\n      <td>3</td>\n      <td>1</td>\n      <td>5</td>\n      <td>1</td>\n      <td>0</td>\n      <td>0</td>\n      <td>9</td>\n      <td>1</td>\n      <td>...</td>\n      <td>2</td>\n      <td>3</td>\n      <td>7</td>\n      <td>0</td>\n      <td>2</td>\n      <td>1</td>\n      <td>4</td>\n      <td>3</td>\n      <td>5</td>\n      <td>0</td>\n    </tr>\n    <tr>\n      <th>1</th>\n      <td>2</td>\n      <td>0</td>\n      <td>4</td>\n      <td>0</td>\n      <td>5</td>\n      <td>1</td>\n      <td>0</td>\n      <td>1</td>\n      <td>10</td>\n      <td>0</td>\n      <td>...</td>\n      <td>3</td>\n      <td>7</td>\n      <td>4</td>\n      <td>0</td>\n      <td>2</td>\n      <td>1</td>\n      <td>0</td>\n      <td>7</td>\n      <td>4</td>\n      <td>0</td>\n    </tr>\n    <tr>\n      <th>2</th>\n      <td>2</td>\n      <td>0</td>\n      <td>3</td>\n      <td>0</td>\n      <td>2</td>\n      <td>1</td>\n      <td>0</td>\n      <td>0</td>\n      <td>7</td>\n      <td>0</td>\n      <td>...</td>\n      <td>1</td>\n      <td>0</td>\n      <td>4</td>\n      <td>0</td>\n      <td>2</td>\n      <td>1</td>\n      <td>2</td>\n      <td>1</td>\n      <td>5</td>\n      <td>1</td>\n    </tr>\n    <tr>\n      <th>3</th>\n      <td>0</td>\n      <td>0</td>\n      <td>3</td>\n      <td>0</td>\n      <td>5</td>\n      <td>1</td>\n      <td>1</td>\n      <td>0</td>\n      <td>2</td>\n      <td>0</td>\n      <td>...</td>\n      <td>2</td>\n      <td>7</td>\n      <td>7</td>\n      <td>0</td>\n      <td>2</td>\n      <td>2</td>\n      <td>4</td>\n      <td>7</td>\n      <td>3</td>\n      <td>1</td>\n    </tr>\n    <tr>\n      <th>4</th>\n      <td>2</td>\n      <td>3</td>\n      <td>3</td>\n      <td>1</td>\n      <td>5</td>\n      <td>1</td>\n      <td>0</td>\n      <td>0</td>\n      <td>10</td>\n      <td>1</td>\n      <td>...</td>\n      <td>2</td>\n      <td>3</td>\n      <td>6</td>\n      <td>0</td>\n      <td>2</td>\n      <td>1</td>\n      <td>4</td>\n      <td>2</td>\n      <td>5</td>\n      <td>0</td>\n    </tr>\n  </tbody>\n</table>\n<p>5 rows × 22 columns</p>\n</div>"
     },
     "execution_count": 6,
     "metadata": {},
     "output_type": "execute_result"
    }
   ],
   "source": [
    "df.info()\n",
    "X = df.drop('class', axis=1)\n",
    "y = df['class']\n",
    "X.head()"
   ],
   "metadata": {
    "collapsed": false,
    "pycharm": {
     "name": "#%%\n"
    }
   }
  },
  {
   "cell_type": "markdown",
   "source": [
    "Создаем экземпляр леса, выбираем фичи для исследования и через грид серч подбираем параметры фичей, далее выводим через бест парамс"
   ],
   "metadata": {
    "collapsed": false
   }
  },
  {
   "cell_type": "code",
   "execution_count": 9,
   "outputs": [
    {
     "data": {
      "text/plain": "{'max_depth': 9,\n 'min_samples_leaf': 1,\n 'min_samples_split': 2,\n 'n_estimators': 10}"
     },
     "execution_count": 9,
     "metadata": {},
     "output_type": "execute_result"
    }
   ],
   "source": [
    "np.random.seed(0)\n",
    "RF_clf = RandomForestClassifier(random_state=0)\n",
    "parameters = {'n_estimators': range(10, 50, 10),\n",
    "              'max_depth': range(1, 12, 2),\n",
    "              'min_samples_split': range(2, 9, 2),\n",
    "              'min_samples_leaf': range(1, 7)}\n",
    "grid_search_cv_clf = GridSearchCV(RF_clf, parameters, cv=3,  n_jobs=-1)\n",
    "grid_search_cv_clf.fit(X, y)\n",
    "grid_search_cv_clf.best_params_"
   ],
   "metadata": {
    "collapsed": false,
    "pycharm": {
     "name": "#%%\n"
    }
   }
  },
  {
   "cell_type": "markdown",
   "source": [
    "Обучаем модель с лучшими параметрами, и строим график важности фичей"
   ],
   "metadata": {
    "collapsed": false
   }
  },
  {
   "cell_type": "code",
   "execution_count": 14,
   "outputs": [
    {
     "data": {
      "text/plain": "<AxesSubplot:>"
     },
     "execution_count": 14,
     "metadata": {},
     "output_type": "execute_result"
    },
    {
     "data": {
      "text/plain": "<Figure size 1152x720 with 1 Axes>",
      "image/png": "[encoded data removed]"
     },
     "metadata": {
      "needs_background": "light"
     },
     "output_type": "display_data"
    }
   ],
   "source": [
    "RF_clf = RandomForestClassifier(**grid_search_cv_clf.best_params_).fit(X, y)\n",
    "imp = pd.DataFrame(RF_clf.feature_importances_, index=X.columns, columns=['importance']) # Создаем датафрейм с фичами и распределяем их по степени важности\n",
    "imp.sort_values('importance').plot(kind='barh', figsize=(16, 10)) # отрисовываем фичи в порядке убывания"
   ],
   "metadata": {
    "collapsed": false,
    "pycharm": {
     "name": "#%%\n"
    }
   }
  },
  {
   "cell_type": "code",
   "execution_count": 30,
   "outputs": [
    {
     "data": {
      "text/plain": "0    1055\n1     976\ndtype: int64"
     },
     "execution_count": 30,
     "metadata": {},
     "output_type": "execute_result"
    }
   ],
   "source": [
    "X_test = pd.read_csv('Data/testing_mush.csv')\n",
    "X_test.head()\n",
    "y_pred_counts = pd.Series(RF_clf.predict(X_test)).value_counts() # Подсчет количества съедобный и не съедобных грибов\n",
    "y_pred_counts"
   ],
   "metadata": {
    "collapsed": false,
    "pycharm": {
     "name": "#%%\n"
    }
   }
  },
  {
   "cell_type": "markdown",
   "source": [
    "Показываем наксолько точно работает модель"
   ],
   "metadata": {
    "collapsed": false
   }
  },
  {
   "cell_type": "code",
   "execution_count": 28,
   "outputs": [],
   "source": [
    "y_pred = pd.Series(RF_clf.predict(X_test))\n",
    "y_true = pd.read_csv('Data/testing_y_mush.csv')"
   ],
   "metadata": {
    "collapsed": false,
    "pycharm": {
     "name": "#%%\n"
    }
   }
  },
  {
   "cell_type": "code",
   "execution_count": 29,
   "outputs": [
    {
     "data": {
      "text/plain": "<AxesSubplot:>"
     },
     "execution_count": 29,
     "metadata": {},
     "output_type": "execute_result"
    },
    {
     "data": {
      "text/plain": "<Figure size 432x288 with 2 Axes>",
      "image/png": "[encoded data removed]"
     },
     "metadata": {
      "needs_background": "light"
     },
     "output_type": "display_data"
    }
   ],
   "source": [
    "sns.heatmap(confusion_matrix(y_true, y_pred), annot=True, cmap=\"Blues\") # графически отображаем точность предсказания"
   ],
   "metadata": {
    "collapsed": false,
    "pycharm": {
     "name": "#%%\n"
    }
   }
  },
  {
   "cell_type": "code",
   "execution_count": 31,
   "outputs": [
    {
     "data": {
      "text/plain": "array([[1055,    0],\n       [   0,  976]], dtype=int64)"
     },
     "execution_count": 31,
     "metadata": {},
     "output_type": "execute_result"
    }
   ],
   "source": [
    "confusion_matrix(y_true, y_pred)"
   ],
   "metadata": {
    "collapsed": false,
    "pycharm": {
     "name": "#%%\n"
    }
   }
  },
  {
   "cell_type": "code",
   "execution_count": 2,
   "outputs": [
    {
     "data": {
      "text/plain": "       class  g_reflection  i_reflection       speed  brightness  \\\n0  transport      2.190672      6.716633   62.168208    0.347465   \n1  transport      3.453276      8.995909   62.994707    0.590094   \n2  transport      2.432994      6.938691   62.245807    0.329288   \n3    fighter      6.083763      3.019459   18.474555    0.174738   \n4    fighter     12.876769      2.452950  195.805771    0.150446   \n\n   time_of_observance     volume  \n0              158221  44.932446  \n1              385972  41.568300  \n2              446482  40.123467  \n3              210125  11.384865  \n4               23109  11.328806  ",
      "text/html": "<div>\n<style scoped>\n    .dataframe tbody tr th:only-of-type {\n        vertical-align: middle;\n    }\n\n    .dataframe tbody tr th {\n        vertical-align: top;\n    }\n\n    .dataframe thead th {\n        text-align: right;\n    }\n</style>\n<table border=\"1\" class=\"dataframe\">\n  <thead>\n    <tr style=\"text-align: right;\">\n      <th></th>\n      <th>class</th>\n      <th>g_reflection</th>\n      <th>i_reflection</th>\n      <th>speed</th>\n      <th>brightness</th>\n      <th>time_of_observance</th>\n      <th>volume</th>\n    </tr>\n  </thead>\n  <tbody>\n    <tr>\n      <th>0</th>\n      <td>transport</td>\n      <td>2.190672</td>\n      <td>6.716633</td>\n      <td>62.168208</td>\n      <td>0.347465</td>\n      <td>158221</td>\n      <td>44.932446</td>\n    </tr>\n    <tr>\n      <th>1</th>\n      <td>transport</td>\n      <td>3.453276</td>\n      <td>8.995909</td>\n      <td>62.994707</td>\n      <td>0.590094</td>\n      <td>385972</td>\n      <td>41.568300</td>\n    </tr>\n    <tr>\n      <th>2</th>\n      <td>transport</td>\n      <td>2.432994</td>\n      <td>6.938691</td>\n      <td>62.245807</td>\n      <td>0.329288</td>\n      <td>446482</td>\n      <td>40.123467</td>\n    </tr>\n    <tr>\n      <th>3</th>\n      <td>fighter</td>\n      <td>6.083763</td>\n      <td>3.019459</td>\n      <td>18.474555</td>\n      <td>0.174738</td>\n      <td>210125</td>\n      <td>11.384865</td>\n    </tr>\n    <tr>\n      <th>4</th>\n      <td>fighter</td>\n      <td>12.876769</td>\n      <td>2.452950</td>\n      <td>195.805771</td>\n      <td>0.150446</td>\n      <td>23109</td>\n      <td>11.328806</td>\n    </tr>\n  </tbody>\n</table>\n</div>"
     },
     "execution_count": 2,
     "metadata": {},
     "output_type": "execute_result"
    }
   ],
   "source": [
    "df = pd.read_csv('Data/invasion.csv')\n",
    "df.head()"
   ],
   "metadata": {
    "collapsed": false,
    "pycharm": {
     "name": "#%%\n"
    }
   }
  },
  {
   "cell_type": "code",
   "execution_count": 5,
   "outputs": [
    {
     "data": {
      "text/plain": "array(['transport', 'fighter', 'cruiser'], dtype=object)"
     },
     "execution_count": 5,
     "metadata": {},
     "output_type": "execute_result"
    }
   ],
   "source": [
    "df['class'].unique()"
   ],
   "metadata": {
    "collapsed": false,
    "pycharm": {
     "name": "#%%\n"
    }
   }
  },
  {
   "cell_type": "code",
   "execution_count": 8,
   "outputs": [],
   "source": [
    "X_train = df.iloc[:,1:]"
   ],
   "metadata": {
    "collapsed": false,
    "pycharm": {
     "name": "#%%\n"
    }
   }
  },
  {
   "cell_type": "code",
   "execution_count": 10,
   "outputs": [],
   "source": [
    "y_train = df['class']"
   ],
   "metadata": {
    "collapsed": false,
    "pycharm": {
     "name": "#%%\n"
    }
   }
  },
  {
   "cell_type": "code",
   "execution_count": 13,
   "outputs": [
    {
     "data": {
      "text/plain": "{'max_depth': 3,\n 'min_samples_leaf': 1,\n 'min_samples_split': 2,\n 'n_estimators': 10}"
     },
     "execution_count": 13,
     "metadata": {},
     "output_type": "execute_result"
    }
   ],
   "source": [
    "RF_clf = RandomForestClassifier()\n",
    "parameters = {'n_estimators': range(10, 50, 10),\n",
    "              'max_depth': range(1, 12, 2),\n",
    "              'min_samples_split': range(2, 9, 2),\n",
    "              'min_samples_leaf': range(1, 7)}\n",
    "grid_search_cv_clf = GridSearchCV(RF_clf, parameters, cv=3,  n_jobs=-1)\n",
    "grid_search_cv_clf.fit(X_train, y_train)\n",
    "grid_search_cv_clf.best_params_"
   ],
   "metadata": {
    "collapsed": false,
    "pycharm": {
     "name": "#%%\n"
    }
   }
  },
  {
   "cell_type": "code",
   "execution_count": 14,
   "outputs": [],
   "source": [
    "RF_clf = RandomForestClassifier(**grid_search_cv_clf.best_params_).fit(X_train, y_train)"
   ],
   "metadata": {
    "collapsed": false,
    "pycharm": {
     "name": "#%%\n"
    }
   }
  },
  {
   "cell_type": "code",
   "execution_count": 16,
   "outputs": [],
   "source": [
    "df_test = pd.read_csv('Data/operative_information.csv')\n",
    "df_test.head()\n",
    "X_test = df_test"
   ],
   "metadata": {
    "collapsed": false,
    "pycharm": {
     "name": "#%%\n"
    }
   }
  },
  {
   "cell_type": "code",
   "execution_count": 22,
   "outputs": [
    {
     "data": {
      "text/plain": "fighter      675\ntransport    594\ncruiser      231\ndtype: int64"
     },
     "execution_count": 22,
     "metadata": {},
     "output_type": "execute_result"
    }
   ],
   "source": [
    "df_predicted = pd.Series(RF_clf.predict(X_test))\n",
    "df_predicted.value_counts()"
   ],
   "metadata": {
    "collapsed": false,
    "pycharm": {
     "name": "#%%\n"
    }
   }
  },
  {
   "cell_type": "code",
   "execution_count": 23,
   "outputs": [
    {
     "data": {
      "text/plain": "<AxesSubplot:>"
     },
     "execution_count": 23,
     "metadata": {},
     "output_type": "execute_result"
    },
    {
     "data": {
      "text/plain": "<Figure size 1152x720 with 1 Axes>",
      "image/png": "[encoded data removed]"
     },
     "metadata": {
      "needs_background": "light"
     },
     "output_type": "display_data"
    }
   ],
   "source": [
    "imp = pd.DataFrame(RF_clf.feature_importances_, index=X_train.columns, columns=['importance']) # Создаем датафрейм с фичами и распределяем их по степени важности\n",
    "imp.sort_values('importance').plot(kind='barh', figsize=(16, 10)) # отрисовываем фичи в порядке убывания"
   ],
   "metadata": {
    "collapsed": false,
    "pycharm": {
     "name": "#%%\n"
    }
   }
  },
  {
   "cell_type": "code",
   "execution_count": 24,
   "outputs": [
    {
     "data": {
      "text/plain": "       r    phi  peradventure_index  dustiness  black_hole_is_near  \\\n0  169.1  138.0             22.3212   0.706285                   0   \n1   11.1  148.0              1.4652  -0.410512                   1   \n2  274.6  201.0             36.2472   0.756457                   1   \n3  172.8  173.0             22.8096   0.035221                   1   \n4  223.3  222.0             29.4756   0.197271                   0   \n\n   buggers_were_noticed  nearby_system_has_planemo  dangerous  \n0                     1                          1          1  \n1                     1                          1          1  \n2                     1                          1          1  \n3                     1                          1          1  \n4                     1                          1          1  ",
      "text/html": "<div>\n<style scoped>\n    .dataframe tbody tr th:only-of-type {\n        vertical-align: middle;\n    }\n\n    .dataframe tbody tr th {\n        vertical-align: top;\n    }\n\n    .dataframe thead th {\n        text-align: right;\n    }\n</style>\n<table border=\"1\" class=\"dataframe\">\n  <thead>\n    <tr style=\"text-align: right;\">\n      <th></th>\n      <th>r</th>\n      <th>phi</th>\n      <th>peradventure_index</th>\n      <th>dustiness</th>\n      <th>black_hole_is_near</th>\n      <th>buggers_were_noticed</th>\n      <th>nearby_system_has_planemo</th>\n      <th>dangerous</th>\n    </tr>\n  </thead>\n  <tbody>\n    <tr>\n      <th>0</th>\n      <td>169.1</td>\n      <td>138.0</td>\n      <td>22.3212</td>\n      <td>0.706285</td>\n      <td>0</td>\n      <td>1</td>\n      <td>1</td>\n      <td>1</td>\n    </tr>\n    <tr>\n      <th>1</th>\n      <td>11.1</td>\n      <td>148.0</td>\n      <td>1.4652</td>\n      <td>-0.410512</td>\n      <td>1</td>\n      <td>1</td>\n      <td>1</td>\n      <td>1</td>\n    </tr>\n    <tr>\n      <th>2</th>\n      <td>274.6</td>\n      <td>201.0</td>\n      <td>36.2472</td>\n      <td>0.756457</td>\n      <td>1</td>\n      <td>1</td>\n      <td>1</td>\n      <td>1</td>\n    </tr>\n    <tr>\n      <th>3</th>\n      <td>172.8</td>\n      <td>173.0</td>\n      <td>22.8096</td>\n      <td>0.035221</td>\n      <td>1</td>\n      <td>1</td>\n      <td>1</td>\n      <td>1</td>\n    </tr>\n    <tr>\n      <th>4</th>\n      <td>223.3</td>\n      <td>222.0</td>\n      <td>29.4756</td>\n      <td>0.197271</td>\n      <td>0</td>\n      <td>1</td>\n      <td>1</td>\n      <td>1</td>\n    </tr>\n  </tbody>\n</table>\n</div>"
     },
     "execution_count": 24,
     "metadata": {},
     "output_type": "execute_result"
    }
   ],
   "source": [
    "df_1 = pd.read_csv('Data/space_can_be_a_dangerous_place.csv')\n",
    "df_1.head()"
   ],
   "metadata": {
    "collapsed": false,
    "pycharm": {
     "name": "#%%\n"
    }
   }
  },
  {
   "cell_type": "code",
   "execution_count": 27,
   "outputs": [
    {
     "data": {
      "text/plain": "0    1\n1    1\n2    1\n3    1\n4    1\nName: dangerous, dtype: int64"
     },
     "execution_count": 27,
     "metadata": {},
     "output_type": "execute_result"
    }
   ],
   "source": [
    "X_train_1 = df_1.iloc[:,:-1]\n",
    "y_train_1 = df_1.iloc[:,-1]\n"
   ],
   "metadata": {
    "collapsed": false,
    "pycharm": {
     "name": "#%%\n"
    }
   }
  },
  {
   "cell_type": "code",
   "execution_count": 28,
   "outputs": [
    {
     "data": {
      "text/plain": "<AxesSubplot:>"
     },
     "execution_count": 28,
     "metadata": {},
     "output_type": "execute_result"
    },
    {
     "data": {
      "text/plain": "<Figure size 1152x720 with 1 Axes>",
      "image/png": "[encoded data removed]"
     },
     "metadata": {
      "needs_background": "light"
     },
     "output_type": "display_data"
    }
   ],
   "source": [
    "RF_clf = RandomForestClassifier()\n",
    "parameters = {'n_estimators': range(10, 50, 10),\n",
    "              'max_depth': range(1, 12, 2),\n",
    "              'min_samples_split': range(2, 9, 2),\n",
    "              'min_samples_leaf': range(1, 7)}\n",
    "grid_search_cv_clf = GridSearchCV(RF_clf, parameters, cv=3,  n_jobs=-1)\n",
    "grid_search_cv_clf.fit(X_train_1, y_train_1)\n",
    "#grid_search_cv_clf.best_params_\n",
    "RF_clf = RandomForestClassifier(**grid_search_cv_clf.best_params_).fit(X_train_1, y_train_1)\n",
    "imp = pd.DataFrame(RF_clf.feature_importances_, index=X_train_1.columns, columns=['importance']) # Создаем датафрейм с фичами и распределяем их по степени важности\n",
    "imp.sort_values('importance').plot(kind='barh', figsize=(16, 10)) # отрисовываем фичи в порядке убывания"
   ],
   "metadata": {
    "collapsed": false,
    "pycharm": {
     "name": "#%%\n"
    }
   }
  },
  {
   "cell_type": "code",
   "execution_count": null,
   "outputs": [],
   "source": [],
   "metadata": {
    "collapsed": false,
    "pycharm": {
     "name": "#%%\n"
    }
   }
  },
  {
   "cell_type": "code",
   "execution_count": null,
   "outputs": [],
   "source": [],
   "metadata": {
    "collapsed": false,
    "pycharm": {
     "name": "#%%\n"
    }
   }
  }
 ],
 "metadata": {
  "kernelspec": {
   "display_name": "Python 3",
   "language": "python",
   "name": "python3"
  },
  "language_info": {
   "codemirror_mode": {
    "name": "ipython",
    "version": 2
   },
   "file_extension": ".py",
   "mimetype": "text/x-python",
   "name": "python",
   "nbconvert_exporter": "python",
   "pygments_lexer": "ipython2",
   "version": "2.7.6"
  }
 },
 "nbformat": 4,
 "nbformat_minor": 0
}